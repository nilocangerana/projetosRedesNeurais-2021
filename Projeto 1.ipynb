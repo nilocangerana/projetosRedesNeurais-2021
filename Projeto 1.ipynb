{
 "cells": [
  {
   "cell_type": "markdown",
   "id": "prostate-aside",
   "metadata": {},
   "source": [
    "## Projeto 1 - SCC0270 - Redes Neurais e Aprendizado Profundo\n",
    "\n",
    "### Nome: Nilo Conrado Messias Alves Cangerana\n",
    "### Número USP: 9805362"
   ]
  },
  {
   "cell_type": "code",
   "execution_count": 1,
   "id": "altered-party",
   "metadata": {},
   "outputs": [],
   "source": [
    "#Imports\n",
    "import platform\n",
    "import pandas as pd\n",
    "import numpy as np\n",
    "from sklearn.neural_network import MLPClassifier\n",
    "from sklearn.metrics import roc_auc_score\n",
    "from sklearn.model_selection import GridSearchCV\n",
    "from sklearn.neighbors import KNeighborsClassifier\n",
    "from sklearn.linear_model import SGDClassifier"
   ]
  },
  {
   "cell_type": "code",
   "execution_count": 2,
   "id": "several-maintenance",
   "metadata": {},
   "outputs": [
    {
     "name": "stdout",
     "output_type": "stream",
     "text": [
      "Versão Python utilizada:  3.7.9\n"
     ]
    }
   ],
   "source": [
    "print(\"Versão Python utilizada: \",platform.python_version()) "
   ]
  },
  {
   "cell_type": "code",
   "execution_count": 2,
   "id": "chinese-dealing",
   "metadata": {},
   "outputs": [],
   "source": [
    "#Carregar train.csv e test.csv\n",
    "df_train = pd.read_csv('train.csv')\n",
    "df_test = pd.read_csv('test.csv')"
   ]
  },
  {
   "cell_type": "code",
   "execution_count": 4,
   "id": "surrounded-championship",
   "metadata": {},
   "outputs": [
    {
     "data": {
      "text/html": [
       "<div>\n",
       "<style scoped>\n",
       "    .dataframe tbody tr th:only-of-type {\n",
       "        vertical-align: middle;\n",
       "    }\n",
       "\n",
       "    .dataframe tbody tr th {\n",
       "        vertical-align: top;\n",
       "    }\n",
       "\n",
       "    .dataframe thead th {\n",
       "        text-align: right;\n",
       "    }\n",
       "</style>\n",
       "<table border=\"1\" class=\"dataframe\">\n",
       "  <thead>\n",
       "    <tr style=\"text-align: right;\">\n",
       "      <th></th>\n",
       "      <th>V1</th>\n",
       "      <th>V2</th>\n",
       "      <th>V3</th>\n",
       "      <th>V4</th>\n",
       "      <th>V5</th>\n",
       "      <th>V6</th>\n",
       "      <th>V7</th>\n",
       "      <th>V8</th>\n",
       "      <th>V9</th>\n",
       "      <th>V10</th>\n",
       "      <th>...</th>\n",
       "      <th>V20</th>\n",
       "      <th>V21</th>\n",
       "      <th>V22</th>\n",
       "      <th>V23</th>\n",
       "      <th>V24</th>\n",
       "      <th>V25</th>\n",
       "      <th>V26</th>\n",
       "      <th>V27</th>\n",
       "      <th>V28</th>\n",
       "      <th>Class</th>\n",
       "    </tr>\n",
       "  </thead>\n",
       "  <tbody>\n",
       "    <tr>\n",
       "      <th>0</th>\n",
       "      <td>-1.359807</td>\n",
       "      <td>-0.072781</td>\n",
       "      <td>2.536347</td>\n",
       "      <td>1.378155</td>\n",
       "      <td>-0.338321</td>\n",
       "      <td>0.462388</td>\n",
       "      <td>0.239599</td>\n",
       "      <td>0.098698</td>\n",
       "      <td>0.363787</td>\n",
       "      <td>0.090794</td>\n",
       "      <td>...</td>\n",
       "      <td>0.251412</td>\n",
       "      <td>-0.018307</td>\n",
       "      <td>0.277838</td>\n",
       "      <td>-0.110474</td>\n",
       "      <td>0.066928</td>\n",
       "      <td>0.128539</td>\n",
       "      <td>-0.189115</td>\n",
       "      <td>0.133558</td>\n",
       "      <td>-0.021053</td>\n",
       "      <td>0</td>\n",
       "    </tr>\n",
       "    <tr>\n",
       "      <th>1</th>\n",
       "      <td>1.191857</td>\n",
       "      <td>0.266151</td>\n",
       "      <td>0.166480</td>\n",
       "      <td>0.448154</td>\n",
       "      <td>0.060018</td>\n",
       "      <td>-0.082361</td>\n",
       "      <td>-0.078803</td>\n",
       "      <td>0.085102</td>\n",
       "      <td>-0.255425</td>\n",
       "      <td>-0.166974</td>\n",
       "      <td>...</td>\n",
       "      <td>-0.069083</td>\n",
       "      <td>-0.225775</td>\n",
       "      <td>-0.638672</td>\n",
       "      <td>0.101288</td>\n",
       "      <td>-0.339846</td>\n",
       "      <td>0.167170</td>\n",
       "      <td>0.125895</td>\n",
       "      <td>-0.008983</td>\n",
       "      <td>0.014724</td>\n",
       "      <td>0</td>\n",
       "    </tr>\n",
       "    <tr>\n",
       "      <th>2</th>\n",
       "      <td>-1.358354</td>\n",
       "      <td>-1.340163</td>\n",
       "      <td>1.773209</td>\n",
       "      <td>0.379780</td>\n",
       "      <td>-0.503198</td>\n",
       "      <td>1.800499</td>\n",
       "      <td>0.791461</td>\n",
       "      <td>0.247676</td>\n",
       "      <td>-1.514654</td>\n",
       "      <td>0.207643</td>\n",
       "      <td>...</td>\n",
       "      <td>0.524980</td>\n",
       "      <td>0.247998</td>\n",
       "      <td>0.771679</td>\n",
       "      <td>0.909412</td>\n",
       "      <td>-0.689281</td>\n",
       "      <td>-0.327642</td>\n",
       "      <td>-0.139097</td>\n",
       "      <td>-0.055353</td>\n",
       "      <td>-0.059752</td>\n",
       "      <td>0</td>\n",
       "    </tr>\n",
       "    <tr>\n",
       "      <th>3</th>\n",
       "      <td>-0.966272</td>\n",
       "      <td>-0.185226</td>\n",
       "      <td>1.792993</td>\n",
       "      <td>-0.863291</td>\n",
       "      <td>-0.010309</td>\n",
       "      <td>1.247203</td>\n",
       "      <td>0.237609</td>\n",
       "      <td>0.377436</td>\n",
       "      <td>-1.387024</td>\n",
       "      <td>-0.054952</td>\n",
       "      <td>...</td>\n",
       "      <td>-0.208038</td>\n",
       "      <td>-0.108300</td>\n",
       "      <td>0.005274</td>\n",
       "      <td>-0.190321</td>\n",
       "      <td>-1.175575</td>\n",
       "      <td>0.647376</td>\n",
       "      <td>-0.221929</td>\n",
       "      <td>0.062723</td>\n",
       "      <td>0.061458</td>\n",
       "      <td>0</td>\n",
       "    </tr>\n",
       "    <tr>\n",
       "      <th>4</th>\n",
       "      <td>-1.158233</td>\n",
       "      <td>0.877737</td>\n",
       "      <td>1.548718</td>\n",
       "      <td>0.403034</td>\n",
       "      <td>-0.407193</td>\n",
       "      <td>0.095921</td>\n",
       "      <td>0.592941</td>\n",
       "      <td>-0.270533</td>\n",
       "      <td>0.817739</td>\n",
       "      <td>0.753074</td>\n",
       "      <td>...</td>\n",
       "      <td>0.408542</td>\n",
       "      <td>-0.009431</td>\n",
       "      <td>0.798278</td>\n",
       "      <td>-0.137458</td>\n",
       "      <td>0.141267</td>\n",
       "      <td>-0.206010</td>\n",
       "      <td>0.502292</td>\n",
       "      <td>0.219422</td>\n",
       "      <td>0.215153</td>\n",
       "      <td>0</td>\n",
       "    </tr>\n",
       "  </tbody>\n",
       "</table>\n",
       "<p>5 rows × 29 columns</p>\n",
       "</div>"
      ],
      "text/plain": [
       "         V1        V2        V3        V4        V5        V6        V7  \\\n",
       "0 -1.359807 -0.072781  2.536347  1.378155 -0.338321  0.462388  0.239599   \n",
       "1  1.191857  0.266151  0.166480  0.448154  0.060018 -0.082361 -0.078803   \n",
       "2 -1.358354 -1.340163  1.773209  0.379780 -0.503198  1.800499  0.791461   \n",
       "3 -0.966272 -0.185226  1.792993 -0.863291 -0.010309  1.247203  0.237609   \n",
       "4 -1.158233  0.877737  1.548718  0.403034 -0.407193  0.095921  0.592941   \n",
       "\n",
       "         V8        V9       V10  ...       V20       V21       V22       V23  \\\n",
       "0  0.098698  0.363787  0.090794  ...  0.251412 -0.018307  0.277838 -0.110474   \n",
       "1  0.085102 -0.255425 -0.166974  ... -0.069083 -0.225775 -0.638672  0.101288   \n",
       "2  0.247676 -1.514654  0.207643  ...  0.524980  0.247998  0.771679  0.909412   \n",
       "3  0.377436 -1.387024 -0.054952  ... -0.208038 -0.108300  0.005274 -0.190321   \n",
       "4 -0.270533  0.817739  0.753074  ...  0.408542 -0.009431  0.798278 -0.137458   \n",
       "\n",
       "        V24       V25       V26       V27       V28  Class  \n",
       "0  0.066928  0.128539 -0.189115  0.133558 -0.021053      0  \n",
       "1 -0.339846  0.167170  0.125895 -0.008983  0.014724      0  \n",
       "2 -0.689281 -0.327642 -0.139097 -0.055353 -0.059752      0  \n",
       "3 -1.175575  0.647376 -0.221929  0.062723  0.061458      0  \n",
       "4  0.141267 -0.206010  0.502292  0.219422  0.215153      0  \n",
       "\n",
       "[5 rows x 29 columns]"
      ]
     },
     "execution_count": 4,
     "metadata": {},
     "output_type": "execute_result"
    }
   ],
   "source": [
    "#Checagem dos dados de treino\n",
    "df_train.head()"
   ]
  },
  {
   "cell_type": "code",
   "execution_count": 5,
   "id": "mysterious-majority",
   "metadata": {},
   "outputs": [
    {
     "data": {
      "text/html": [
       "<div>\n",
       "<style scoped>\n",
       "    .dataframe tbody tr th:only-of-type {\n",
       "        vertical-align: middle;\n",
       "    }\n",
       "\n",
       "    .dataframe tbody tr th {\n",
       "        vertical-align: top;\n",
       "    }\n",
       "\n",
       "    .dataframe thead th {\n",
       "        text-align: right;\n",
       "    }\n",
       "</style>\n",
       "<table border=\"1\" class=\"dataframe\">\n",
       "  <thead>\n",
       "    <tr style=\"text-align: right;\">\n",
       "      <th></th>\n",
       "      <th>V1</th>\n",
       "      <th>V2</th>\n",
       "      <th>V3</th>\n",
       "      <th>V4</th>\n",
       "      <th>V5</th>\n",
       "      <th>V6</th>\n",
       "      <th>V7</th>\n",
       "      <th>V8</th>\n",
       "      <th>V9</th>\n",
       "      <th>V10</th>\n",
       "      <th>...</th>\n",
       "      <th>V20</th>\n",
       "      <th>V21</th>\n",
       "      <th>V22</th>\n",
       "      <th>V23</th>\n",
       "      <th>V24</th>\n",
       "      <th>V25</th>\n",
       "      <th>V26</th>\n",
       "      <th>V27</th>\n",
       "      <th>V28</th>\n",
       "      <th>Class</th>\n",
       "    </tr>\n",
       "  </thead>\n",
       "  <tbody>\n",
       "    <tr>\n",
       "      <th>0</th>\n",
       "      <td>-0.439952</td>\n",
       "      <td>0.683758</td>\n",
       "      <td>1.225814</td>\n",
       "      <td>0.639113</td>\n",
       "      <td>0.716765</td>\n",
       "      <td>0.089295</td>\n",
       "      <td>0.657718</td>\n",
       "      <td>0.034213</td>\n",
       "      <td>-0.472679</td>\n",
       "      <td>0.352698</td>\n",
       "      <td>...</td>\n",
       "      <td>0.211867</td>\n",
       "      <td>0.127443</td>\n",
       "      <td>0.588590</td>\n",
       "      <td>-0.145728</td>\n",
       "      <td>-0.322900</td>\n",
       "      <td>-0.299744</td>\n",
       "      <td>-0.310295</td>\n",
       "      <td>0.248317</td>\n",
       "      <td>-0.011493</td>\n",
       "      <td>0</td>\n",
       "    </tr>\n",
       "    <tr>\n",
       "      <th>1</th>\n",
       "      <td>-4.868108</td>\n",
       "      <td>1.264420</td>\n",
       "      <td>-5.167885</td>\n",
       "      <td>3.193648</td>\n",
       "      <td>-3.045621</td>\n",
       "      <td>-2.096166</td>\n",
       "      <td>-6.445610</td>\n",
       "      <td>2.422536</td>\n",
       "      <td>-3.214055</td>\n",
       "      <td>-8.745973</td>\n",
       "      <td>...</td>\n",
       "      <td>0.667310</td>\n",
       "      <td>1.269205</td>\n",
       "      <td>0.057657</td>\n",
       "      <td>0.629307</td>\n",
       "      <td>-0.168432</td>\n",
       "      <td>0.443744</td>\n",
       "      <td>0.276539</td>\n",
       "      <td>1.441274</td>\n",
       "      <td>-0.127944</td>\n",
       "      <td>1</td>\n",
       "    </tr>\n",
       "    <tr>\n",
       "      <th>2</th>\n",
       "      <td>1.013114</td>\n",
       "      <td>-0.334412</td>\n",
       "      <td>1.305208</td>\n",
       "      <td>0.837406</td>\n",
       "      <td>-1.126833</td>\n",
       "      <td>-0.064321</td>\n",
       "      <td>-0.594753</td>\n",
       "      <td>0.147737</td>\n",
       "      <td>0.536360</td>\n",
       "      <td>-0.120472</td>\n",
       "      <td>...</td>\n",
       "      <td>0.069161</td>\n",
       "      <td>0.017079</td>\n",
       "      <td>0.112210</td>\n",
       "      <td>-0.016084</td>\n",
       "      <td>0.595033</td>\n",
       "      <td>0.201073</td>\n",
       "      <td>0.278215</td>\n",
       "      <td>0.007457</td>\n",
       "      <td>0.030762</td>\n",
       "      <td>0</td>\n",
       "    </tr>\n",
       "    <tr>\n",
       "      <th>3</th>\n",
       "      <td>0.969231</td>\n",
       "      <td>-0.233554</td>\n",
       "      <td>0.238473</td>\n",
       "      <td>0.145793</td>\n",
       "      <td>-0.545741</td>\n",
       "      <td>-0.970680</td>\n",
       "      <td>0.347393</td>\n",
       "      <td>-0.209522</td>\n",
       "      <td>-0.342571</td>\n",
       "      <td>-0.100331</td>\n",
       "      <td>...</td>\n",
       "      <td>0.240978</td>\n",
       "      <td>-0.362820</td>\n",
       "      <td>-1.417272</td>\n",
       "      <td>0.162136</td>\n",
       "      <td>0.541628</td>\n",
       "      <td>-0.079465</td>\n",
       "      <td>0.268702</td>\n",
       "      <td>-0.101237</td>\n",
       "      <td>0.028234</td>\n",
       "      <td>0</td>\n",
       "    </tr>\n",
       "    <tr>\n",
       "      <th>4</th>\n",
       "      <td>-0.856523</td>\n",
       "      <td>1.080875</td>\n",
       "      <td>1.866956</td>\n",
       "      <td>1.729941</td>\n",
       "      <td>-0.161741</td>\n",
       "      <td>0.028789</td>\n",
       "      <td>0.401787</td>\n",
       "      <td>0.043774</td>\n",
       "      <td>-0.213916</td>\n",
       "      <td>0.155907</td>\n",
       "      <td>...</td>\n",
       "      <td>-0.068915</td>\n",
       "      <td>0.007365</td>\n",
       "      <td>0.077392</td>\n",
       "      <td>-0.221906</td>\n",
       "      <td>0.394141</td>\n",
       "      <td>0.237225</td>\n",
       "      <td>-0.080102</td>\n",
       "      <td>-0.291408</td>\n",
       "      <td>0.092140</td>\n",
       "      <td>0</td>\n",
       "    </tr>\n",
       "  </tbody>\n",
       "</table>\n",
       "<p>5 rows × 29 columns</p>\n",
       "</div>"
      ],
      "text/plain": [
       "         V1        V2        V3        V4        V5        V6        V7  \\\n",
       "0 -0.439952  0.683758  1.225814  0.639113  0.716765  0.089295  0.657718   \n",
       "1 -4.868108  1.264420 -5.167885  3.193648 -3.045621 -2.096166 -6.445610   \n",
       "2  1.013114 -0.334412  1.305208  0.837406 -1.126833 -0.064321 -0.594753   \n",
       "3  0.969231 -0.233554  0.238473  0.145793 -0.545741 -0.970680  0.347393   \n",
       "4 -0.856523  1.080875  1.866956  1.729941 -0.161741  0.028789  0.401787   \n",
       "\n",
       "         V8        V9       V10  ...       V20       V21       V22       V23  \\\n",
       "0  0.034213 -0.472679  0.352698  ...  0.211867  0.127443  0.588590 -0.145728   \n",
       "1  2.422536 -3.214055 -8.745973  ...  0.667310  1.269205  0.057657  0.629307   \n",
       "2  0.147737  0.536360 -0.120472  ...  0.069161  0.017079  0.112210 -0.016084   \n",
       "3 -0.209522 -0.342571 -0.100331  ...  0.240978 -0.362820 -1.417272  0.162136   \n",
       "4  0.043774 -0.213916  0.155907  ... -0.068915  0.007365  0.077392 -0.221906   \n",
       "\n",
       "        V24       V25       V26       V27       V28  Class  \n",
       "0 -0.322900 -0.299744 -0.310295  0.248317 -0.011493      0  \n",
       "1 -0.168432  0.443744  0.276539  1.441274 -0.127944      1  \n",
       "2  0.595033  0.201073  0.278215  0.007457  0.030762      0  \n",
       "3  0.541628 -0.079465  0.268702 -0.101237  0.028234      0  \n",
       "4  0.394141  0.237225 -0.080102 -0.291408  0.092140      0  \n",
       "\n",
       "[5 rows x 29 columns]"
      ]
     },
     "execution_count": 5,
     "metadata": {},
     "output_type": "execute_result"
    }
   ],
   "source": [
    "#Checagem dos dados de teste\n",
    "df_test.head()"
   ]
  },
  {
   "cell_type": "code",
   "execution_count": 6,
   "id": "broad-arnold",
   "metadata": {},
   "outputs": [
    {
     "name": "stdout",
     "output_type": "stream",
     "text": [
      "Shape train: (142404, 29)\n",
      "Shape test: (142403, 29)\n"
     ]
    }
   ],
   "source": [
    "#Checagem do shape \n",
    "print('Shape train:',df_train.shape)\n",
    "print('Shape test:',df_test.shape)"
   ]
  },
  {
   "cell_type": "code",
   "execution_count": 3,
   "id": "european-taxation",
   "metadata": {},
   "outputs": [],
   "source": [
    "#Gerar X_train, y_train, X_test, y_test em numpy array\n",
    "X_train=df_train.to_numpy()\n",
    "X_test=df_test.to_numpy()\n",
    "\n",
    "y_train=X_train[:, X_train.shape[1]-1]\n",
    "y_test=X_test[:, X_test.shape[1]-1]\n",
    "\n",
    "X_train=X_train[:,:-1]\n",
    "X_test=X_test[:,:-1]"
   ]
  },
  {
   "cell_type": "code",
   "execution_count": 4,
   "id": "emerging-minutes",
   "metadata": {},
   "outputs": [
    {
     "name": "stdout",
     "output_type": "stream",
     "text": [
      "Shape X_train: (142404, 28)\n",
      "Shape y_train: (142404,) \n",
      "\n",
      "Shape X_test: (142403, 28)\n",
      "Shape y_test: (142403,)\n"
     ]
    }
   ],
   "source": [
    "#Checagem dos shapes:\n",
    "print('Shape X_train:',X_train.shape)\n",
    "print('Shape y_train:',y_train.shape,'\\n')\n",
    "\n",
    "print('Shape X_test:',X_test.shape)\n",
    "print('Shape y_test:',y_test.shape)"
   ]
  },
  {
   "cell_type": "markdown",
   "id": "thorough-marshall",
   "metadata": {},
   "source": [
    "## Questão 1"
   ]
  },
  {
   "cell_type": "code",
   "execution_count": 9,
   "id": "champion-geography",
   "metadata": {},
   "outputs": [
    {
     "name": "stdout",
     "output_type": "stream",
     "text": [
      "Quantidade de fraudes(classe 1) no conjunto de treino: 269 de 142404 amostras total de treino.\n",
      "Quantidade de não fraudes(classe 0) no conjunto de treino: 142135 de 142404 amostras total de treino.\n",
      "\n",
      "Quantidade de fraudes(classe 1) no conjunto de teste: 223 de 142403 amostras total de teste.\n",
      "Quantidade de não fraudes(classe 0) no conjunto de teste: 142180 de 142403 amostras total de teste.\n"
     ]
    }
   ],
   "source": [
    "#Contar quantidade de fraudes nos dados\n",
    "qtdFraudesTrain = np.count_nonzero(y_train == 1)\n",
    "qtdFraudesTest = np.count_nonzero(y_test == 1)\n",
    "\n",
    "print('Quantidade de fraudes(classe 1) no conjunto de treino:',qtdFraudesTrain,'de',len(X_train),'amostras total de treino.')\n",
    "print('Quantidade de não fraudes(classe 0) no conjunto de treino:',len(X_train)-qtdFraudesTrain,'de',len(X_train),'amostras total de treino.\\n')\n",
    "print('Quantidade de fraudes(classe 1) no conjunto de teste:',qtdFraudesTest,'de',len(X_test),'amostras total de teste.')\n",
    "print('Quantidade de não fraudes(classe 0) no conjunto de teste:',len(X_test)-qtdFraudesTest,'de',len(X_test),'amostras total de teste.')\n",
    "qtdNaoFraudesTest=len(X_test)-qtdFraudesTest"
   ]
  },
  {
   "cell_type": "markdown",
   "id": "blank-specification",
   "metadata": {},
   "source": [
    "<b>a)</b> A métrica de avaliação que deve ser utilizada para este problema é a AUC. Como é possível ver nos dados, a quantidade de fraudes é muito inferior a quantidade de transações verdadeiras e, portanto, um modelo utilizando a métrica de acurácia poderia resultar em uma acurácia muito alta, mesmo errando todas previsões de fraudes, tornando o modelo ineficiente para seu propósito.\n",
    "\n",
    "Além disso, os dados possuem classes desbalanceadas, dado que existem menos fraudes nos conjuntos, e é necessário que o modelo acerte o máximo de fraudes possíveis. Para isso, o modelo que tiver a melhor AUC,ou seja, melhor custo beneficio na curva ROC(mais verdadeiros positivos e menos falsos positivos) será o melhor.\n",
    "\n",
    "<b>b)</b> Acurácia: Como o modelo é aleatório, sabe-se que a probabilidade do modelo prever classe 0 é 0.5 e a probabilidade do modelo prever classe 1 é 0.5. "
   ]
  },
  {
   "cell_type": "code",
   "execution_count": 10,
   "id": "expensive-antique",
   "metadata": {},
   "outputs": [
    {
     "name": "stdout",
     "output_type": "stream",
     "text": [
      "(P1)Probabilidade do dado ser classe 0 e classificado como classe 0: 0.4992170108775798\n",
      "(P2)Probabilidade do dado ser classe 1 e classificado como classe 1: 0.0007829891224201737\n",
      "Portanto, a acurácia do modelo aleatório é P1+P2= 0.5\n"
     ]
    }
   ],
   "source": [
    "print('(P1)Probabilidade do dado ser classe 0 e classificado como classe 0:',(qtdNaoFraudesTest/len(X_test))*0.5)\n",
    "print('(P2)Probabilidade do dado ser classe 1 e classificado como classe 1:',(qtdFraudesTest/len(X_test))*0.5)\n",
    "print('Portanto, a acurácia do modelo aleatório é P1+P2=',(qtdNaoFraudesTest/len(X_test))*0.5+(qtdFraudesTest/len(X_test))*0.5)"
   ]
  },
  {
   "cell_type": "markdown",
   "id": "comparative-philadelphia",
   "metadata": {},
   "source": [
    "AUC: Quando o modelo tem a mesma probabilidade de classificar aleatóriamente um dado, a curva ROC do modelo é uma linha diagonal que vai do ponto (0,0) até (1,1). Neste caso, a área sobre essa curva é a área de um triângulo que é igual a (base*altura)/2\n",
    "\n",
    "Portanto, a AUC do modelo aleatório é: (1*1)/2=0.5"
   ]
  },
  {
   "cell_type": "markdown",
   "id": "caring-amount",
   "metadata": {},
   "source": [
    "## Questão 2"
   ]
  },
  {
   "cell_type": "code",
   "execution_count": 11,
   "id": "saved-breakdown",
   "metadata": {},
   "outputs": [],
   "source": [
    "#Instanciar MLPCLassifier para cada valor de alpha\n",
    "m1=MLPClassifier(hidden_layer_sizes = (20,20,20,20,20,), activation='relu',alpha=0.0 ,random_state=42)\n",
    "m2=MLPClassifier(hidden_layer_sizes = (20,20,20,20,20,), activation='relu',alpha=0.01 ,random_state=42)\n",
    "m3=MLPClassifier(hidden_layer_sizes = (20,20,20,20,20,), activation='relu',alpha=0.1 ,random_state=42)\n",
    "m4=MLPClassifier(hidden_layer_sizes = (20,20,20,20,20,), activation='relu',alpha=1 ,random_state=42)\n",
    "m5=MLPClassifier(hidden_layer_sizes = (20,20,20,20,20,), activation='relu',alpha=10 ,random_state=42)"
   ]
  },
  {
   "cell_type": "code",
   "execution_count": 12,
   "id": "pursuant-orange",
   "metadata": {},
   "outputs": [
    {
     "data": {
      "text/plain": [
       "MLPClassifier(alpha=0.0, hidden_layer_sizes=(20, 20, 20, 20, 20),\n",
       "              random_state=42)"
      ]
     },
     "execution_count": 12,
     "metadata": {},
     "output_type": "execute_result"
    }
   ],
   "source": [
    "#Treinar modelo para alpha=0.0\n",
    "m1.fit(X_train,y_train)"
   ]
  },
  {
   "cell_type": "code",
   "execution_count": 13,
   "id": "light-barcelona",
   "metadata": {},
   "outputs": [
    {
     "data": {
      "text/plain": [
       "MLPClassifier(alpha=0.01, hidden_layer_sizes=(20, 20, 20, 20, 20),\n",
       "              random_state=42)"
      ]
     },
     "execution_count": 13,
     "metadata": {},
     "output_type": "execute_result"
    }
   ],
   "source": [
    "#Treinar modelo para alpha=0.01\n",
    "m2.fit(X_train,y_train)"
   ]
  },
  {
   "cell_type": "code",
   "execution_count": 14,
   "id": "convertible-salon",
   "metadata": {},
   "outputs": [
    {
     "data": {
      "text/plain": [
       "MLPClassifier(alpha=0.1, hidden_layer_sizes=(20, 20, 20, 20, 20),\n",
       "              random_state=42)"
      ]
     },
     "execution_count": 14,
     "metadata": {},
     "output_type": "execute_result"
    }
   ],
   "source": [
    "#Treinar modelo para alpha=0.1\n",
    "m3.fit(X_train,y_train)"
   ]
  },
  {
   "cell_type": "code",
   "execution_count": 15,
   "id": "turkish-belize",
   "metadata": {},
   "outputs": [
    {
     "data": {
      "text/plain": [
       "MLPClassifier(alpha=1, hidden_layer_sizes=(20, 20, 20, 20, 20), random_state=42)"
      ]
     },
     "execution_count": 15,
     "metadata": {},
     "output_type": "execute_result"
    }
   ],
   "source": [
    "#Treinar modelo para alpha=1\n",
    "m4.fit(X_train,y_train)"
   ]
  },
  {
   "cell_type": "code",
   "execution_count": 16,
   "id": "nuclear-liechtenstein",
   "metadata": {},
   "outputs": [
    {
     "data": {
      "text/plain": [
       "MLPClassifier(alpha=10, hidden_layer_sizes=(20, 20, 20, 20, 20),\n",
       "              random_state=42)"
      ]
     },
     "execution_count": 16,
     "metadata": {},
     "output_type": "execute_result"
    }
   ],
   "source": [
    "#Treinar modelo para alpha=10\n",
    "m5.fit(X_train,y_train)"
   ]
  },
  {
   "cell_type": "code",
   "execution_count": 17,
   "id": "informal-explosion",
   "metadata": {},
   "outputs": [
    {
     "name": "stdout",
     "output_type": "stream",
     "text": [
      "Taxa de Regularização L2=0.0 - AUC= 0.8890056783954149\n",
      "Taxa de Regularização L2=0.01 - AUC= 0.8896808788455485\n",
      "Taxa de Regularização L2=0.1 - AUC= 0.8922043648328054\n",
      "Taxa de Regularização L2=1 - AUC= 0.600896860986547\n",
      "Taxa de Regularização L2=10 - AUC= 0.5\n"
     ]
    }
   ],
   "source": [
    "#Medir AUC de cada modelo\n",
    "m1_AUC=roc_auc_score(y_test,m1.predict(X_test))\n",
    "m2_AUC=roc_auc_score(y_test,m2.predict(X_test))\n",
    "m3_AUC=roc_auc_score(y_test,m3.predict(X_test))\n",
    "m4_AUC=roc_auc_score(y_test,m4.predict(X_test))\n",
    "m5_AUC=roc_auc_score(y_test,m5.predict(X_test))\n",
    "\n",
    "print('Taxa de Regularização L2=0.0 - AUC=', m1_AUC)\n",
    "print('Taxa de Regularização L2=0.01 - AUC=', m2_AUC)\n",
    "print('Taxa de Regularização L2=0.1 - AUC=', m3_AUC)\n",
    "print('Taxa de Regularização L2=1 - AUC=', m4_AUC)\n",
    "print('Taxa de Regularização L2=10 - AUC=', m5_AUC)"
   ]
  },
  {
   "cell_type": "markdown",
   "id": "about-sperm",
   "metadata": {},
   "source": [
    "Como é possível ver nas métricas medidas acima, um modelo com taxa de regularização igual a 0 tem menos acertos em relação a um modelo com taxas de regularização maiores(0.01 e 0.1). Isso se deve ao fato do modelo com regularização reduzir sua complexidade para evitar um possível overfitting. Para taxas de regularização maiores(1 e 10), o fator da regularização na fórmula do erro tem um peso maior, fazendo com que não compense para o modelo usar toda sua complexidade para reduzir o erro. Isso torna o modelo incapaz de generalizar com toda sua complexidade, diminuindo drasticamente o valor da AUC para esses casos.\n",
    "\n",
    "Portanto, para uma taxa de regularização igual a 0.1, o modelo possui a melhor performance."
   ]
  },
  {
   "cell_type": "markdown",
   "id": "other-snowboard",
   "metadata": {},
   "source": [
    "## Questão 3"
   ]
  },
  {
   "cell_type": "code",
   "execution_count": 18,
   "id": "offensive-evolution",
   "metadata": {},
   "outputs": [],
   "source": [
    "#Instanciar MLPClassifier\n",
    "modelMLP = MLPClassifier(random_state=42)\n",
    "\n",
    "#Instanciar KNN\n",
    "modelKNN = KNeighborsClassifier()\n",
    "\n",
    "#Definição dos hiperparametros que serão variados em cada modelo:\n",
    "hyperMLP = {'hidden_layer_sizes':[(), (10,), (5,5,)]}\n",
    "hyperKNN = {'n_neighbors':[3, 5, 7]}"
   ]
  },
  {
   "cell_type": "code",
   "execution_count": 19,
   "id": "functional-prescription",
   "metadata": {},
   "outputs": [
    {
     "name": "stdout",
     "output_type": "stream",
     "text": [
      "Fitting 3 folds for each of 3 candidates, totalling 9 fits\n",
      "[CV] END ..............................hidden_layer_sizes=(); total time=   4.5s\n",
      "[CV] END ..............................hidden_layer_sizes=(); total time=   5.4s\n",
      "[CV] END ..............................hidden_layer_sizes=(); total time=   4.8s\n",
      "[CV] END ...........................hidden_layer_sizes=(10,); total time=   3.8s\n",
      "[CV] END ...........................hidden_layer_sizes=(10,); total time=   5.2s\n",
      "[CV] END ...........................hidden_layer_sizes=(10,); total time=   5.2s\n",
      "[CV] END ..........................hidden_layer_sizes=(5, 5); total time=   5.0s\n",
      "[CV] END ..........................hidden_layer_sizes=(5, 5); total time=   5.0s\n",
      "[CV] END ..........................hidden_layer_sizes=(5, 5); total time=   6.6s\n"
     ]
    },
    {
     "data": {
      "text/plain": [
       "GridSearchCV(cv=3, estimator=MLPClassifier(random_state=42),\n",
       "             param_grid={'hidden_layer_sizes': [(), (10,), (5, 5)]},\n",
       "             scoring='roc_auc', verbose=2)"
      ]
     },
     "execution_count": 19,
     "metadata": {},
     "output_type": "execute_result"
    }
   ],
   "source": [
    "#Instanciar GridSearchCV para MLP\n",
    "gsMLP=GridSearchCV(modelMLP, hyperMLP, scoring='roc_auc', cv=3, verbose=2)\n",
    "\n",
    "#Treinar MLP\n",
    "gsMLP.fit(X_train,y_train)"
   ]
  },
  {
   "cell_type": "code",
   "execution_count": 20,
   "id": "adapted-bracelet",
   "metadata": {},
   "outputs": [
    {
     "name": "stdout",
     "output_type": "stream",
     "text": [
      "Melhor configuração para MLP: MLPClassifier(hidden_layer_sizes=(10,), random_state=42)\n",
      "AUC da melhor configuração: 0.9544289035505876\n"
     ]
    }
   ],
   "source": [
    "print('Melhor configuração para MLP:',gsMLP.best_estimator_)\n",
    "print('AUC da melhor configuração:',gsMLP.best_score_)"
   ]
  },
  {
   "cell_type": "markdown",
   "id": "vocal-conservative",
   "metadata": {},
   "source": [
    "O MLPClassifier com uma camada intermediária de 10 neurônios apresenta a melhor AUC."
   ]
  },
  {
   "cell_type": "code",
   "execution_count": 21,
   "id": "fabulous-blackberry",
   "metadata": {},
   "outputs": [
    {
     "name": "stdout",
     "output_type": "stream",
     "text": [
      "Fitting 3 folds for each of 3 candidates, totalling 9 fits\n",
      "[CV] END ......................................n_neighbors=3; total time= 1.1min\n",
      "[CV] END ......................................n_neighbors=3; total time= 1.2min\n",
      "[CV] END ......................................n_neighbors=3; total time= 1.2min\n",
      "[CV] END ......................................n_neighbors=5; total time= 1.5min\n",
      "[CV] END ......................................n_neighbors=5; total time= 1.5min\n",
      "[CV] END ......................................n_neighbors=5; total time= 1.6min\n",
      "[CV] END ......................................n_neighbors=7; total time= 1.5min\n",
      "[CV] END ......................................n_neighbors=7; total time= 1.5min\n",
      "[CV] END ......................................n_neighbors=7; total time= 1.6min\n"
     ]
    },
    {
     "data": {
      "text/plain": [
       "GridSearchCV(cv=3, estimator=KNeighborsClassifier(),\n",
       "             param_grid={'n_neighbors': [3, 5, 7]}, scoring='roc_auc',\n",
       "             verbose=2)"
      ]
     },
     "execution_count": 21,
     "metadata": {},
     "output_type": "execute_result"
    }
   ],
   "source": [
    "#Instanciar GridSearchCV para KNN\n",
    "gsKNN=GridSearchCV(modelKNN, hyperKNN, scoring='roc_auc',cv=3, verbose=2)\n",
    "\n",
    "#Treinar KNN\n",
    "gsKNN.fit(X_train,y_train)"
   ]
  },
  {
   "cell_type": "code",
   "execution_count": 22,
   "id": "abandoned-dover",
   "metadata": {},
   "outputs": [
    {
     "name": "stdout",
     "output_type": "stream",
     "text": [
      "Melhor configuração para KNN: KNeighborsClassifier(n_neighbors=7)\n",
      "AUC da melhor configuração: 0.91067105000196\n"
     ]
    }
   ],
   "source": [
    "print('Melhor configuração para KNN:',gsKNN.best_estimator_)\n",
    "print('AUC da melhor configuração:',gsKNN.best_score_)"
   ]
  },
  {
   "cell_type": "markdown",
   "id": "impressive-watts",
   "metadata": {},
   "source": [
    "O KNN com n_neighbors=7 apresenta a melhor AUC."
   ]
  },
  {
   "cell_type": "code",
   "execution_count": 23,
   "id": "agreed-honolulu",
   "metadata": {},
   "outputs": [
    {
     "name": "stdout",
     "output_type": "stream",
     "text": [
      "Wall time: 75.8 ms\n"
     ]
    }
   ],
   "source": [
    "%%time\n",
    "#Previsão na base de teste para MLP\n",
    "AUC_bestMLP=roc_auc_score(y_test,gsMLP.best_estimator_.predict(X_test))"
   ]
  },
  {
   "cell_type": "code",
   "execution_count": 24,
   "id": "duplicate-rouge",
   "metadata": {},
   "outputs": [
    {
     "name": "stdout",
     "output_type": "stream",
     "text": [
      "Wall time: 7min 15s\n"
     ]
    }
   ],
   "source": [
    "%%time\n",
    "#Previsão na base de teste para KNN\n",
    "AUC_bestKNN=roc_auc_score(y_test,gsKNN.best_estimator_.predict(X_test))"
   ]
  },
  {
   "cell_type": "code",
   "execution_count": 25,
   "id": "faced-concord",
   "metadata": {},
   "outputs": [
    {
     "name": "stdout",
     "output_type": "stream",
     "text": [
      "AUC melhor MLP: 0.8829192547563343\n",
      "AUC melhor KNN: 0.8562736586667441\n"
     ]
    }
   ],
   "source": [
    "print('AUC melhor MLP:',AUC_bestMLP)\n",
    "print('AUC melhor KNN:',AUC_bestKNN)"
   ]
  },
  {
   "cell_type": "markdown",
   "id": "union-sponsorship",
   "metadata": {},
   "source": [
    "<b>a)</b> A técnica que obteve o melhor resultado é o modelo de rede neural com MLPClassifier, com AUC de aproximadamente 0.883\n",
    "\n",
    "<b>b)</b> A técnina que demora mais para gerar resultados na base de teste é a KNN, conforme estimado acima pelo comando %%time"
   ]
  },
  {
   "cell_type": "markdown",
   "id": "collaborative-fifty",
   "metadata": {},
   "source": [
    "## Questão 4"
   ]
  },
  {
   "cell_type": "code",
   "execution_count": 26,
   "id": "immediate-omega",
   "metadata": {},
   "outputs": [],
   "source": [
    "fraudeBloq=100\n",
    "naoFraudeBloq=-2\n",
    "\n",
    "#Probabilidades de fraudes no conjunto de teste\n",
    "predictProba=gsMLP.best_estimator_.predict_proba(X_test)"
   ]
  },
  {
   "cell_type": "code",
   "execution_count": 27,
   "id": "reported-yellow",
   "metadata": {},
   "outputs": [
    {
     "data": {
      "text/plain": [
       "array([[9.99928171e-01, 7.18291665e-05],\n",
       "       [4.24865807e-02, 9.57513419e-01],\n",
       "       [9.99932555e-01, 6.74452913e-05],\n",
       "       [9.99999808e-01, 1.91914416e-07],\n",
       "       [9.99916173e-01, 8.38272725e-05],\n",
       "       [9.99999978e-01, 2.20523181e-08],\n",
       "       [9.99972709e-01, 2.72911055e-05],\n",
       "       [9.99926227e-01, 7.37734496e-05],\n",
       "       [9.99999999e-01, 7.83388495e-10],\n",
       "       [9.99999215e-01, 7.84995728e-07]])"
      ]
     },
     "execution_count": 27,
     "metadata": {},
     "output_type": "execute_result"
    }
   ],
   "source": [
    "predictProba[:10]"
   ]
  },
  {
   "cell_type": "code",
   "execution_count": 28,
   "id": "consistent-spray",
   "metadata": {},
   "outputs": [
    {
     "data": {
      "text/plain": [
       "[(101345, 0.999995902524908),\n",
       " (101295, 0.999994973675985),\n",
       " (101444, 0.9999922335068034),\n",
       " (11419, 0.9999921775299898),\n",
       " (101600, 0.9999852631074735),\n",
       " (101929, 0.9999720108183268),\n",
       " (8602, 0.9999589500513425),\n",
       " (8603, 0.9999589500513425),\n",
       " (8604, 0.9999589500513425),\n",
       " (8605, 0.9999589500513425)]"
      ]
     },
     "execution_count": 28,
     "metadata": {},
     "output_type": "execute_result"
    }
   ],
   "source": [
    "#Ordenar vetor por probabilidade de ser fraude. Da maior probabilidade até a menor:\n",
    "predictProbaSorted=sorted(enumerate(predictProba[:,1]), key=lambda i: i[1], reverse=True)\n",
    "\n",
    "#Formato da lista gerada: (Indice do valor no array predictProba, Probabilidade de ser fraude)\n",
    "predictProbaSorted[:10]"
   ]
  },
  {
   "cell_type": "code",
   "execution_count": 29,
   "id": "reflected-angle",
   "metadata": {},
   "outputs": [
    {
     "name": "stdout",
     "output_type": "stream",
     "text": [
      "Quantidade de amostras(1% de 142403): 1424\n"
     ]
    }
   ],
   "source": [
    "#Gerando uma lista com apenas o top 1% das transações com mais chances de ser fraude\n",
    "#top 1%: 1424 amostras\n",
    "topFraudes=predictProbaSorted[:int(len(predictProbaSorted)*0.01)]\n",
    "\n",
    "print('Quantidade de amostras(1% de 142403):',len(topFraudes))"
   ]
  },
  {
   "cell_type": "code",
   "execution_count": 30,
   "id": "knowing-girlfriend",
   "metadata": {},
   "outputs": [
    {
     "data": {
      "text/plain": [
       "[(101345, 0.999995902524908),\n",
       " (101295, 0.999994973675985),\n",
       " (101444, 0.9999922335068034),\n",
       " (11419, 0.9999921775299898),\n",
       " (101600, 0.9999852631074735),\n",
       " (101929, 0.9999720108183268),\n",
       " (8602, 0.9999589500513425),\n",
       " (8603, 0.9999589500513425),\n",
       " (8604, 0.9999589500513425),\n",
       " (8605, 0.9999589500513425)]"
      ]
     },
     "execution_count": 30,
     "metadata": {},
     "output_type": "execute_result"
    }
   ],
   "source": [
    "topFraudes[:10]"
   ]
  },
  {
   "cell_type": "markdown",
   "id": "destroyed-testing",
   "metadata": {},
   "source": [
    "De acordo com o enunciado, todas as 1424 transações seriam impedidas de acontecer, ou seja, seriam bloqueadas."
   ]
  },
  {
   "cell_type": "code",
   "execution_count": 44,
   "id": "positive-start",
   "metadata": {},
   "outputs": [
    {
     "name": "stdout",
     "output_type": "stream",
     "text": [
      "Lucro calculado: 16430\n"
     ]
    }
   ],
   "source": [
    "#Calcular lucro\n",
    "lucro=0\n",
    "for i in topFraudes:\n",
    "    if y_test[i[0]]==1: #se um transação i for fraude e foi impedida de acontecer\n",
    "        lucro+=fraudeBloq\n",
    "    elif y_test[i[0]]==0: #se uma transação i não for fraude e foi impedida de acontecer\n",
    "        lucro+=naoFraudeBloq\n",
    "\n",
    "print('Lucro calculado:',lucro)"
   ]
  },
  {
   "cell_type": "markdown",
   "id": "environmental-force",
   "metadata": {},
   "source": [
    "O lucro calculado para este modelo é de R$ 16430"
   ]
  },
  {
   "cell_type": "markdown",
   "id": "systematic-deputy",
   "metadata": {},
   "source": [
    "## Questão 5"
   ]
  },
  {
   "cell_type": "code",
   "execution_count": 5,
   "id": "bearing-nudist",
   "metadata": {},
   "outputs": [],
   "source": [
    "#Instanciar modelo de SGDClassifier\n",
    "modelSGD=SGDClassifier(loss='log', penalty='l1', alpha=0.00003, random_state=42)"
   ]
  },
  {
   "cell_type": "markdown",
   "id": "united-concord",
   "metadata": {},
   "source": [
    "Foram testados vários valores para alpha, para atingir o melhor AUC. O melhor AUC para o modelo foi para alpha=0.00003"
   ]
  },
  {
   "cell_type": "code",
   "execution_count": 6,
   "id": "posted-timer",
   "metadata": {},
   "outputs": [
    {
     "data": {
      "text/plain": [
       "SGDClassifier(alpha=3e-05, loss='log', penalty='l1', random_state=42)"
      ]
     },
     "execution_count": 6,
     "metadata": {},
     "output_type": "execute_result"
    }
   ],
   "source": [
    "#Treinar modelo\n",
    "modelSGD.fit(X_train,y_train)"
   ]
  },
  {
   "cell_type": "code",
   "execution_count": 7,
   "id": "compatible-restoration",
   "metadata": {},
   "outputs": [
    {
     "name": "stdout",
     "output_type": "stream",
     "text": [
      "AUC do modelo SGDClassifier 0.8342013881223006\n"
     ]
    }
   ],
   "source": [
    "#Calcular AUC\n",
    "sgdAUC=roc_auc_score(y_test,modelSGD.predict(X_test))\n",
    "print('AUC do modelo SGDClassifier',sgdAUC)"
   ]
  },
  {
   "cell_type": "code",
   "execution_count": 8,
   "id": "labeled-substance",
   "metadata": {},
   "outputs": [
    {
     "data": {
      "text/plain": [
       "array([[ 131.20895405,  154.55633083,    6.85731862,   22.85853157,\n",
       "         -47.10080766,    0.        ,  -13.07348791,   12.29360645,\n",
       "         -82.40875519,   -0.51276085,  -48.06424068,   36.61012713,\n",
       "         -87.48998568,  -78.73042921,  -55.76757215,   -8.26104004,\n",
       "         -14.34832002,    0.        ,  -15.03392036,   63.19105309,\n",
       "          61.90761457,   42.33356232,   20.3493302 ,   -2.54213316,\n",
       "         -65.58029015,   15.61497523, -116.79512123,   20.05153403]])"
      ]
     },
     "execution_count": 8,
     "metadata": {},
     "output_type": "execute_result"
    }
   ],
   "source": [
    "#Pesos atribuidos a cada entrada:\n",
    "modelSGD.coef_"
   ]
  },
  {
   "cell_type": "markdown",
   "id": "grand-mixture",
   "metadata": {},
   "source": [
    "As variáveis não importantes para o problema são aquelas em que foram atribuídos pesos zero."
   ]
  },
  {
   "cell_type": "code",
   "execution_count": 19,
   "id": "premier-concept",
   "metadata": {},
   "outputs": [
    {
     "name": "stdout",
     "output_type": "stream",
     "text": [
      "Variáveis não importantes:\n",
      "['V6', 'V18']\n"
     ]
    }
   ],
   "source": [
    "index=1\n",
    "listVar=[]\n",
    "for i in modelSGD.coef_[0]:\n",
    "    if i==0:\n",
    "        listVar.append('V'+str(index))\n",
    "    index+=1\n",
    "print('Variáveis não importantes:')\n",
    "print(listVar)"
   ]
  },
  {
   "cell_type": "markdown",
   "id": "charitable-sally",
   "metadata": {},
   "source": [
    "Essas variáveis não influenciam na previsão final do modelo, dado que a regularização L1 faz com que seus pesos sejam zerados, reduzindo a complexidade do modelo."
   ]
  }
 ],
 "metadata": {
  "kernelspec": {
   "display_name": "Python 3",
   "language": "python",
   "name": "python3"
  },
  "language_info": {
   "codemirror_mode": {
    "name": "ipython",
    "version": 3
   },
   "file_extension": ".py",
   "mimetype": "text/x-python",
   "name": "python",
   "nbconvert_exporter": "python",
   "pygments_lexer": "ipython3",
   "version": "3.7.9"
  }
 },
 "nbformat": 4,
 "nbformat_minor": 5
}
